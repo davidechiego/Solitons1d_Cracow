{
 "cells": [
  {
   "cell_type": "code",
   "execution_count": null,
   "id": "b17faae6",
   "metadata": {},
   "outputs": [
    {
     "name": "stdout",
     "output_type": "stream",
     "text": [
      "0.0\n"
     ]
    }
   ],
   "source": [
    "# This will tell Python where to look for your package\n",
    "import sys\n",
    "import os\n",
    "# Add the src folder to the Python path\n",
    "sys.path.append(os.path.abspath('../src'))\n",
    "\n",
    "\n",
    "## Code \n",
    "\n",
    "                                # 5.1 Functions #\n",
    "from solitons1d.soliton import create_profile\n",
    "profile = create_profile(100)\n",
    "#profile\n",
    "\n",
    "                            # 5.2 Classes and Methods #\n",
    "# use the Soliton class to initialise a soliton with 100 grid points and 0.1 grid spacing called my_soliton\n",
    "from solitons1d.soliton import Soliton\n",
    "\n",
    "my_soliton = Soliton(100,0.1)\n",
    "#print(my_soliton.num_grid_points)\n",
    "\n",
    "                            # 5.3 Methods #\n",
    "#  They’re similar to functions but are designed to only be applied to the class. These are defined in the class definition itself.\n",
    "\n",
    "my_soliton.compute_energy()\n",
    "#print(my_soliton.energy)\n",
    "\n",
    "\n"
   ]
  },
  {
   "cell_type": "code",
   "execution_count": null,
   "id": "a89d6b30",
   "metadata": {},
   "outputs": [],
   "source": []
  }
 ],
 "metadata": {
  "kernelspec": {
   "display_name": "Python 3",
   "language": "python",
   "name": "python3"
  },
  "language_info": {
   "codemirror_mode": {
    "name": "ipython",
    "version": 3
   },
   "file_extension": ".py",
   "mimetype": "text/x-python",
   "name": "python",
   "nbconvert_exporter": "python",
   "pygments_lexer": "ipython3",
   "version": "3.12.6"
  }
 },
 "nbformat": 4,
 "nbformat_minor": 5
}
