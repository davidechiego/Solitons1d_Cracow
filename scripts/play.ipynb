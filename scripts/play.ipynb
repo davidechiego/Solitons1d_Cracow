{
 "cells": [
  {
   "cell_type": "code",
   "execution_count": null,
   "id": "b17faae6",
   "metadata": {},
   "outputs": [],
   "source": [
    "## Code step-by-step building\n",
    "\n",
    "                                # 5.1 Functions #\n",
    "#from solitons1d.soliton import create_profile\n",
    "#profile = create_profile(100)\n",
    "#profile\n",
    "\n",
    "                            # 5.2 Classes and Methods #\n",
    "# use the Soliton class to initialise a soliton with 100 grid points and 0.1 grid spacing called my_soliton\n",
    "#from solitons1d.soliton import Soliton\n",
    "\n",
    "#my_soliton = Soliton(100,0.1)\n",
    "#print(my_soliton.num_grid_points)\n",
    "\n",
    "                            # 5.3 Methods #\n",
    "#  They’re similar to functions but are designed to only be applied to the class. These are defined in the class definition itself.\n",
    "\n",
    "#my_soliton.compute_energy()\n",
    "#print(my_soliton.energy)\n",
    "\n",
    "                                    # 6.1 Grid class #\n",
    "#from solitons1d.soliton import Grid\n",
    "#my_grid = Grid(200,0.1)\n",
    "\n",
    "                                # 6.2 Lagrangian class #\n",
    "#from solitons1d.soliton import Lagrangian\n",
    "\n",
    "#def phi4_V(x):\n",
    "#    return 0.5*np.pow(1-np.pow(x,2),2)\n",
    "\n",
    "#def phi4_dV(x):\n",
    "#    return 2*np.pow(x,3) - 2*x\n",
    "\n",
    "#phi4_lagrangian = Lagrangian(V=phi4_V, dV=phi4_dV, vacua=[-1,1])\n",
    "\n",
    "                                # 6.3 Update Soliton #\n"
   ]
  },
  {
   "cell_type": "code",
   "execution_count": 4,
   "id": "033ef8b2",
   "metadata": {},
   "outputs": [
    {
     "name": "stdout",
     "output_type": "stream",
     "text": [
      "E = 1.1796251820146748\n"
     ]
    },
    {
     "ename": "AttributeError",
     "evalue": "'Soliton' object has no attribute 'plot_soliton'",
     "output_type": "error",
     "traceback": [
      "\u001b[1;31m---------------------------------------------------------------------------\u001b[0m",
      "\u001b[1;31mAttributeError\u001b[0m                            Traceback (most recent call last)",
      "Cell \u001b[1;32mIn[4], line 35\u001b[0m\n\u001b[0;32m     32\u001b[0m \u001b[38;5;28mprint\u001b[39m(\u001b[38;5;124m'\u001b[39m\u001b[38;5;124mE =\u001b[39m\u001b[38;5;124m'\u001b[39m,my_soliton\u001b[38;5;241m.\u001b[39menergy)\n\u001b[0;32m     34\u001b[0m                                 \u001b[38;5;66;03m# 8 Plot a Soliton #\u001b[39;00m\n\u001b[1;32m---> 35\u001b[0m fig \u001b[38;5;241m=\u001b[39m \u001b[43mmy_soliton\u001b[49m\u001b[38;5;241;43m.\u001b[39;49m\u001b[43mplot_soliton\u001b[49m()\n\u001b[0;32m     36\u001b[0m fig\u001b[38;5;241m.\u001b[39msavefig(\u001b[38;5;124m\"\u001b[39m\u001b[38;5;124mmy_lovely_soliton.pdf\u001b[39m\u001b[38;5;124m\"\u001b[39m)\n",
      "\u001b[1;31mAttributeError\u001b[0m: 'Soliton' object has no attribute 'plot_soliton'"
     ]
    }
   ],
   "source": [
    "# This will tell Python where to look for your package\n",
    "import sys\n",
    "import os\n",
    "# Add the src folder to the Python path\n",
    "sys.path.append(os.path.abspath('../src'))\n",
    "\n",
    "import numpy as np\n",
    "\n",
    "# Example of code (Sec. 6.3)\n",
    "from solitons1d.soliton import Lagrangian, Grid, Soliton\n",
    "\n",
    "# Potential and derivative\n",
    "def phi4_V(x):\n",
    "    return 0.5*np.pow(1-np.pow(x,2),2)\n",
    "\n",
    "def phi4_dV(x):\n",
    "    return 2*np.pow(x,3) - 2*x\n",
    "\n",
    "# Lagrangian\n",
    "phi4_lagrangian = Lagrangian(V=phi4_V, dV=phi4_dV, vacua=[-1,1])\n",
    "my_grid = Grid(20,0.1)\n",
    "\n",
    "# Soliton and profile\n",
    "my_soliton = Soliton(my_grid, phi4_lagrangian, initial_profile_function=np.tanh)\n",
    "\n",
    "#print(my_soliton.profile)\n",
    "\n",
    "\n",
    "                                # 7 Derivatives and Energy #\n",
    "\n",
    "my_soliton.compute_energy()\n",
    "print('E =',my_soliton.energy)\n",
    "\n",
    "                                # 8 Plot a Soliton #\n",
    "fig = my_soliton.plot_soliton()\n",
    "fig.savefig(\"my_lovely_soliton.pdf\")"
   ]
  }
 ],
 "metadata": {
  "kernelspec": {
   "display_name": "Python 3",
   "language": "python",
   "name": "python3"
  },
  "language_info": {
   "codemirror_mode": {
    "name": "ipython",
    "version": 3
   },
   "file_extension": ".py",
   "mimetype": "text/x-python",
   "name": "python",
   "nbconvert_exporter": "python",
   "pygments_lexer": "ipython3",
   "version": "3.12.6"
  }
 },
 "nbformat": 4,
 "nbformat_minor": 5
}
